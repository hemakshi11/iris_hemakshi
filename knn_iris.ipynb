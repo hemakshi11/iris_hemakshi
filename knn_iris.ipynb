{
 "cells": [
  {
   "cell_type": "code",
   "execution_count": 1,
   "id": "57aa6175",
   "metadata": {},
   "outputs": [
    {
     "name": "stdout",
     "output_type": "stream",
     "text": [
      "3 = 1.0\n",
      "5 = 1.0\n",
      "7 = 1.0\n",
      "9 = 0.9333333333333333\n",
      "11 = 0.9666666666666667\n",
      "13 = 1.0\n",
      "15 = 0.9333333333333333\n",
      "17 = 0.9333333333333333\n",
      "19 = 1.0\n",
      "21 = 1.0\n"
     ]
    }
   ],
   "source": [
    "from sklearn import datasets\n",
    "from sklearn.model_selection import train_test_split\n",
    "from sklearn.neighbors import KNeighborsClassifier as knc\n",
    "from sklearn import metrics\n",
    "import numpy as np\n",
    "\n",
    "iris = datasets.load_iris()\n",
    "\n",
    "x = iris.data\n",
    "y = iris.target\n",
    "\n",
    "k = 3\n",
    "\n",
    "while k < 23:\n",
    "    x_train, x_test, y_train, y_test = train_test_split(x, y, test_size = 0.2) \n",
    "    knn = knc(n_neighbors = k)\n",
    "    knn.fit(x_train, y_train)\n",
    "    test_prediction = knn.predict(x_test)\n",
    "    accuracy = metrics.accuracy_score(y_test, test_prediction)\n",
    "    print(k, \"=\", accuracy)\n",
    "    k += 2"
   ]
  },
  {
   "cell_type": "code",
   "execution_count": null,
   "id": "fa66e0ed",
   "metadata": {},
   "outputs": [],
   "source": []
  }
 ],
 "metadata": {
  "kernelspec": {
   "display_name": "Python 3 (ipykernel)",
   "language": "python",
   "name": "python3"
  },
  "language_info": {
   "codemirror_mode": {
    "name": "ipython",
    "version": 3
   },
   "file_extension": ".py",
   "mimetype": "text/x-python",
   "name": "python",
   "nbconvert_exporter": "python",
   "pygments_lexer": "ipython3",
   "version": "3.10.7"
  }
 },
 "nbformat": 4,
 "nbformat_minor": 5
}
